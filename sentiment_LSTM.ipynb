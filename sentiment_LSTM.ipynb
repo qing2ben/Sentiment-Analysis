{
  "nbformat": 4,
  "nbformat_minor": 0,
  "metadata": {
    "colab": {
      "provenance": []
    },
    "kernelspec": {
      "name": "python3",
      "display_name": "Python 3"
    },
    "language_info": {
      "name": "python"
    }
  },
  "cells": [
    {
      "cell_type": "code",
      "execution_count": null,
      "metadata": {
        "colab": {
          "base_uri": "https://localhost:8080/"
        },
        "id": "Dy_OQjMaVOnB",
        "outputId": "13f23804-cd37-4f9e-ab4f-da32d407bc46"
      },
      "outputs": [
        {
          "output_type": "stream",
          "name": "stdout",
          "text": [
            "Mounted at /content/drive/\n"
          ]
        }
      ],
      "source": [
        "## load csv file from cloud drive\n",
        "from google.colab import drive\n",
        "drive.mount('/content/drive/')\n",
        "data_path = \"/content/drive/MyDrive/Colab Notebooks/\"  # this is your drive"
      ]
    },
    {
      "cell_type": "code",
      "source": [
        "import pandas as pd\n",
        "import numpy as np\n",
        "import torch\n",
        "import torch.nn as nn\n",
        "import torch.optim as optim\n",
        "from torch.utils.data import Dataset, DataLoader\n",
        "from sklearn.model_selection import train_test_split\n",
        "from torch.optim.lr_scheduler import ReduceLROnPlateau\n",
        "from sklearn.preprocessing import LabelEncoder\n",
        "from sklearn.metrics import accuracy_score, precision_score, recall_score, f1_score\n",
        "import matplotlib.pyplot as plt\n",
        "from collections import Counter"
      ],
      "metadata": {
        "id": "6AvSoIK4VXo_"
      },
      "execution_count": null,
      "outputs": []
    },
    {
      "cell_type": "code",
      "source": [
        "data = pd.read_csv(data_path + 'data_standard.csv')\n",
        "texts = data['text'].tolist()\n",
        "labels = data['sentiment'].tolist()\n",
        "\n",
        "label_encoder = LabelEncoder()\n",
        "labels = label_encoder.fit_transform(labels)  # Convert tags to numerical values(0, 1, 2）\n",
        "\n",
        "print(texts)"
      ],
      "metadata": {
        "colab": {
          "base_uri": "https://localhost:8080/"
        },
        "id": "gJN8dbyEVXm4",
        "outputId": "f81133b0-9cd6-447d-a7c9-e68c6c40ca95"
      },
      "execution_count": null,
      "outputs": [
        {
          "output_type": "stream",
          "name": "stdout",
          "text": [
            "['What a great day!!! Looks like dream.', 'I feel sorry, I miss you here in the sea beach', \"Don't angry me\", 'We attend in the class just for listening teachers reading on slide. Just Nonsence  ', 'Those who want to go, let them go', 'Its night 2 am, feeling neutral', '2 am feedings for the baby are fun when he is all smiles and coos', 'Soooo high', ' Both of you', 'Today first time I arrive in the boat. Its amazing journey', 'Love is something like E=MC^2 rules', 'I really really like the song Cardigan by Taylor Swift', 'My Sharpie is running DANGERously low on ink', 'i want to go to music tonight but i lost my voice.', 'Always somewhere I miss you where I have been', \"Don't distrube me\", \"I don't care, who are you and what can you do\", 'i`ve been sick for the past few days ', \"I'm come back home, my past job, its really good time for me\", 'I will never fall in love until I found you', ' oh Maya, I`m so sorry!!  I hope you find her soon!! ', 'Playing with kids, its amazing', 'is cleaning the house for her family who is comming later today..', 'I tried to shtdown my pc and accenditenly I click in the restart button. Its really disgusting', 'Follow me, I will follow you too', 'Its amazing game, I playing everyday', '  I`m sorry.', \"I'm in the village now and there hardly found internate, feeling gloomy\", 'juss came back from Barisal', 'Went to sleep and there is a power cut in the village. ', 'How looks like our company new logo?', \"I buy Sophie's world book, I'm really so happy\", ' If it is any consolation I got my BMI tested hahaha it says I am obesed  well so much for being unhappy for about 10 minutes.', ' That`s very funny.  Cute kids.', ' Ahhh, I slept through the game.  I`m gonna try my best to watch tomorrow though. I hope we play Army.', 'My semester final exam is complete. Hurray!!!', 'Born and raised in NYC and living in Texas for the past 10 years!  I still miss NY', 'just in case you wonder, we are really busy today and this coming with with adding tons of new blogs and updates stay tuned', 'i`m soooooo sleeeeepy!!! the last day o` school was today....sniffle....', ' romance zero is funny', ' Car not happy, big big dent in boot! Hoping theyre not going to write it off, crossing fingers and waiting', 'Yor are so unromantic', 'MAYDAY?!', ' I`d rather do the early run..but I am a morning runner', ' I love to! But I`m only available from 5pm.  and where dear?', \"The girl in the hair salon asked me 'Shall I trim your eyebrows!' How old do I feel?\", ' i talk to you', \"im soo bored, I don't like this music video\", 'this concert is amazing', 'Had nicotine replacement patch on for 4 hours. So far, so good, but I did sleep for most of those 4 hours. Getting a bit twitchy now', 'Its raining, I need an umbrella ', 'should be sleeping.  lost my voice a couple day ago.', \"I'm depressed, I'm thinking about suicide, what I need to do now?\", ' I`ve heard this fall. I`m waiting too!', 'I saw an amazing nightmare yesterday night', 'I AM SUCH A CREEPER  I feel disappointed because of it.', 'I have bad headech, what I need to do now', 'happy mother`s day to all moms out there. Mothers are our real hero', 'Grabbing coffee from  then making mom breakfast', 'im thinking that im going to have fun tonight', 'Yesterday was most valuable day for me', ' Haha I know, I cant handle the fame!  and thank you!', 'One suggestion for me is, be up to date', 'Always love everyone, love all animals. Most important love your parents', \"I'm playing minecraft video game. I'm addicated to it.\", 'See you in the cloud', 'What a great day!!! Looks like dream.', 'I feel sorry, I miss you here in the sea beach', \"Don't angry me\", 'We attend in the class just for listening teachers reading on slide. Just Nonsence  ', 'Those who want to go, let them go', 'Its night 2 am, feeling neutral', '2 am feedings for the baby are fun when he is all smiles and coos', 'Soooo high', ' Both of you', 'Today first time I arrive in the boat. Its amazing journey', 'Love is something like E=MC^2 rules', 'I really really like the song Cardigan by Taylor Swift', 'My Sharpie is running DANGERously low on ink', 'i want to go to music tonight but i lost my voice.', 'Always somewhere I miss you where I have been', \"Don't distrube me\", \"I don't care, who are you and what can you do\", 'i`ve been sick for the past few days ', \"I'm come back home, my past job, its really good time for me\", 'I will never fall in love until I found you', ' oh Maya, I`m so sorry!!  I hope you find her soon!! ', 'Playing with kids, its amazing', 'is cleaning the house for her family who is comming later today..', 'I tried to shtdown my pc and accenditenly I click in the restart button. Its really disgusting', 'Follow me, I will follow you too', 'Its amazing game, I playing everyday', '  I`m sorry.', \"I'm in the village now and there hardly found internate, feeling gloomy\", 'juss came back from Barisal', 'Went to sleep and there is a power cut in the village. ', 'How looks like our company new logo?', \"I buy Sophie's world book, I'm really so happy\", ' If it is any consolation I got my BMI tested hahaha it says I am obesed  well so much for being unhappy for about 10 minutes.', ' That`s very funny.  Cute kids.', ' Ahhh, I slept through the game.  I`m gonna try my best to watch tomorrow though. I hope we play Army.', 'My semester final exam is complete. Hurray!!!', 'Born and raised in NYC and living in Texas for the past 10 years!  I still miss NY', 'just in case you wonder, we are really busy today and this coming with with adding tons of new blogs and updates stay tuned', 'i`m soooooo sleeeeepy!!! the last day o` school was today....sniffle....', ' romance zero is funny', ' Car not happy, big big dent in boot! Hoping theyre not going to write it off, crossing fingers and waiting', 'Yor are so unromantic', 'MAYDAY?!', ' I`d rather do the early run..but I am a morning runner', ' I love to! But I`m only available from 5pm.  and where dear?', \"The girl in the hair salon asked me 'Shall I trim your eyebrows!' How old do I feel?\", ' i talk to you', 'Grabbing coffee from  then making mom breakfast', 'im thinking that im going to have fun tonight....and maybe some changes are coming', ' thanks. before the major chop.', ' Haha I know, I cant handle the fame!  and thank you!', 'just got up and updated my ipod', 'I still loving you, you are my love', 'Lets go, its time to play cricket match', 'Hey everyone, do you watch cricket match between eng vs aus yesterday', 'Australia cricket team I love you', ' which means you`re just going to have to come back to vancouver and have it our way! hahah', 'Feeling smooth like chrome', 'feeling gloomy', 'Today we will go a concert', 'i need coffee too.', ' Sounds like me', 'Bad day  The day you realize what mess you`ve put me through will be one of the happiest days of my life...', 'Walking to class. I hate not having a bike....especially mine.', \"I'm start learning machine learning\", 'failed inspection. ', 'Lets sing a song', 'happy father`s day to all the father in the world.', 'Today, my semester final exam was really great', 'Really great day', 'The exception for a short dude', 'Congratulation for your achievement', 'If you followed us recently, PLEASE dont be offended that we haven`t followed back. We hit our limit. ', ' Yes i work 9 to 5 ', ' Hmmm, maybe that`s what they meant. ', 'Done at the spa   now meeting vic for some late lunch!', 'Happy monday  up and about going to tavares today. Hope everyone has a blessed day!', ' Always have wanted to go to university', ' Thanks', 'Really great football match', '  that`s why I need to be there', 'Okay so I`m dedicating my 300th tweet to the fact that I`m going to the Apple store because there is a HUGE crack on the glass screen!', ' If only we could ever actually be allowed to stay here and do that', ' Let me know how that turns out!!', ' was that sass I detect?  As long as it isn`t back sass! Haha', ' yeah I was thinking about that ,ahaha', 'Today is our EEE day', 'I`m not sleeping at all until  accepts my appology', \"I'm studying in psychology\", ' I live for pain, bring it on', 'okay, i`m out for a while  back later!', 'We visited worlds longest sea beach, Its really amazing time for us', 'almost died. Laptop screen was set to 100% brightness after I reinstalled Windows Vista. ', 'Waiting for tish to get off. Got to drive my moms CRV to pick her up all my myself and duckie. First time', 'your attitude looks like autistics child', 'going to shower because i don`t want to smell at school tomorrow', 'Do you know sign languages', ' Since the demise of Woolworths it isn`t easy to find reasonably priced pick n mix anywhere', 'may the fourth be with you! happy star wars day', 'just got home from work', ' Yes it does. Please dont` go. If you die I will cry.. which normally leads to small animals getting harmed', 'writing report cards  soooo tired but what an amazing day. check it out on fb soon!', ' it was only once for my big brother', 'good news: finally finished my bachelor degree', 'Well good morning all, What a wonderful day in the neighborhood  Thanks for all those that are now following another 60 this morning', \"yesterday I'm watch a movie, that’s was really motivated for me\", '  hope he is ok!', 'can`t school just be done already? it hurts too much... seeing him every day', \"I waited, listening to wind blowing through the tumbleweed? Are none of you old enough to know what to do when someone says 'Crackerack'?\", ' Hell Yeah!', ' HIM shirt at dinner? Do you need to ask??  Does it actually have Ville on it?', ' i know!!', ' Smelly? Noooo. I love alex Vixon', 'Went to a party last night. GREAT MINDS THINK ALIKE  Anyway, happy birthday', ' Happy birthday! Just woke up on this side of Earth, so wishes are bit late', 'thank you for teaching me values and to be a better person each day  I LOVE SO MUCH, YOU`RE THE BEST MUM IN THE WORLD', 'HAPPY MOTHERS DAY.!', ' laughs I`m glad that you have self confidence - it`s a wonderful trait to have  I`ll applaud extra loud for it, okay?', '  Thanks', 'twittering after 2 days!', 'Getting ready for week  Its too nice today to be stuck inside working!', 'I am tres depressed', 'Felt like ****, behaved like my son; ate to compensate. Pigged out on home-roasted sugar almonds. Painful tum, threw up, still feel sick.', 'Happy Mothers Day people. i love my mom a lot still', ' I`m sorry to hear that.', ' That`s awesome dude, yay for surprise celebrities!  I got to meet him a few years ago, he was soooo friendly.', ' it makes me happy to hear a girl talk, or tweet, about the nba. but... could you give my nuggets some love?!', 'Is getting the hang of Twitter.', 'You know your neck is jacked up when you are forced to pay for parking bc you can`t turn you head to parallel park in the free spaces...', 'I want it BACK NOW!', 'Going to miss my roomie ... We will no longer be roomies starting tomorrow', 'bathing with two little angels, Keyla and Janice.', ' Yep, finished, chocked full of spelling and grammatical errors, but I`m cleaning it up tomorrow and popping it up  hehe', ' HAHAHHA lol true that! i always remember my BD but i can never remember what date or even day it is', 'Family is here,hanging with them', 'Watching Ellen Love her!! then doing the dishes  and tanning ...it`s gorgeous out!', ' what`s goin on hun?  I`m worried about you', ' Im not bannished... but I am at work till 6', ' Morning! If I get to see it, I`ll let you know. Right now, I`m going to go see Wolverine.', 'Grabbing coffee from  then making mom breakfast', 'im thinking that im going to have fun tonight....and maybe some changes are coming', 'Grabbing coffee from  then making mom breakfast', 'im thinking that im going to have fun tonight....and maybe some changes are coming', ' thanks. before the major chop.', ' Haha I know, I cant handle the fame!  and thank you!', 'just got up and updated my ipod', ' yes! sober HAHAHA tanghaling tapat dude! haha WILD. i don`t knowwww  plan plan  before you go to US!', ' We never miss ICarly - my son has a huge crush on Miranda', 'Saw James carville in the store today. His head is really that bald', 'I love blue and programming', ' which means you`re just going to have to come back to vancouver and have it our way! hahah', 'Feeling smooth like chrome', 'Errors are red but my life is looks like blue film', 'downloading songs while trying to sneak a lil homework in too, which should be my main priority not songs lol', 'Errors are red but my life is blue, I love rose and your lips baby', ' Sounds like me', 'Bad day  The day you realize what mess you`ve put me through will be one of the happiest days of my life...', 'Walking to class. I hate not having a bike....especially mine.', 'sounds good', 'failed inspection. Did you know you can pass wo/oven, but not wo/anti-tip bracket, which is only sold w/oven? This is worse than taxes.', 'JONAS BROTHERS - Live to party.                It`s rocking so hard     I love the song,', 'happy mother`s day to all the mothers in the world.', \"I've got a fever, can you chcek, a good song, I'm listening this song everytime\", 'Fun night! Listened through the next episode of this turkey drama', 'The exception for a short dude: Larenz fineass Tate yum', 'Screw the reviews, I thought Wolverine was awesome. But not enough Dominic Monaghan for my liking.', 'If you followed us recently, PLEASE dont be offended that we haven`t followed back. We hit our limit.   Hopefully we will be free soon.', ' Yes i work 6 to 3...', ' Hmmm, maybe that`s what they meant. They eluded to something brand new but you know how the media is', 'Done at the spa   now meeting vic for some late lunch!', 'Happy monday  up and about going to tavares today. Hope everyone has a blessed day!', ' Always have wanted to go to Oz', ' Thx', 'I love this youtube tutorial', '  that`s why I need to be there...To represent the Blackberries', 'Okay so I`m dedicating my 300th tweet to the fact that I`m going to the Apple store because there is a HUGE crack on the glass screen!', ' If only we could ever actually be allowed to stay here and do that', ' Let me know how that turns out!!', ' was that sass I detect?  As long as it isn`t back sass! Haha', ' yeah I was thinking about that ,ahaha', ' Dont know whether that helps. Google it to know more', 'I`m not sleeping at all until  accepts my appology', 'Wolverine Was BOSS! Seriously, And Will.I.Am Was In It, What The **** ??', ' I live for pain, bring it on', 'okay, i`m out for a while  back later!', '  #powerblog What is this powerblog challenge you keep talking about?  I`m a newbie follower', 'almost died. Laptop screen was set to 100% brightness after I reinstalled Windows Vista. Got a headache now  #insanedefaults', 'Waiting for tish to get off. Got to drive my moms CRV to pick her up all my myself and duckie. First time', 'Trying to decide on a movie with the friends.. not going to well! lol :p  No bible study 2nite, which means ****-day cake  buy my own??', 'going to shower because i don`t want to smell at school tomorrow', ' Sigh... you know I am...', 'discovered cause of a bug in the new  4 build. Publishing bug fix now, hopefully new beta by tomorrow', 'Here are 4 FREE notebooks to know machine learning well', 'just got home from work.... and is chugging down a big bottle of apple juice.', ' Yes it does. Please dont` go. If you die I will cry.. which normally leads to small animals getting harmed', 'writing report cards  soooo tired but what an amazing day. check it out on fb soon!', ' it was only once for my big brother...and I`m done now', 'good news: finally finished my workout that has been paused for 6 hours. bad news: my resistance band is torn', 'Well good morning all, What a wonderful day in the neighborhood  Thanks for all those that are now following another 60 this morning', 'FTSK and Mercy Mercedes were amazing tonight.. as always', '  hope he is ok!', 'can`t school just be done already? it hurts too much... seeing him every day', \"I waited, listening to wind blowing through the tumbleweed? Are none of you old enough to know what to do when someone says 'Crackerack'?\", ' Hell Yeah!', ' HIM shirt at dinner? Do you need to ask??  Does it actually have Ville on it?', ' i know!!', ' huh what the ****? Smelly? Noooo. I love alex Vixon', 'Went to a party last night. Dindin and I showed up in matching outfits ) GREAT MINDS THINK ALIKE ) Anyway, happy birthday, ate lara', ' Happy b-day! Just woke up on this side of Earth, so wishes are bit late', 'thank you for teaching me values and to be a better person each day  I LOVE SO MUCH, YOU`RE THE BEST MUM IN THE WORLD', 'HAPPY MOTHERS DAY.!', ' *laughs* I`m glad that you have self confidence - it`s a wonderful trait to have  I`ll applaud extra loud for it, okay?', '  Thanks', 'twittering after 2 days!', 'Getting ready for week  Its too nice today to be stuck inside working!', 'I am tres depressed', 'Felt like ****, behaved like my son; ate to compensate. Pigged out on home-roasted sugar almonds. Painful tum, threw up, still feel sick.', 'Happy Mothers Day people. i love my mom a lot still', ' I`m sorry to hear that.', ' That`s awesome dude, yay for surprise celebrities!  I got to meet him a few years ago, he was soooo friendly.', ' it makes me happy to hear a girl talk, or tweet, about the nba. but... could you give my nuggets some love?!', 'Is getting the hang of Twitter.', 'You know your neck is jacked up when you are forced to pay for parking bc you can`t turn you head to parallel park in the free spaces...', 'I want it BACK NOW!', 'Going to miss my roomie ... We will no longer be roomies starting tomorrow', 'bathing with two little angels, Keyla and Janice.', ' Yep, finished, chocked full of spelling and grammatical errors, but I`m cleaning it up tomorrow and popping it up  hehe', ' HAHAHHA lol true that! i always remember my BD but i can never remember what date or even day it is', 'Family is here,hanging with them', 'Watching Ellen Love her!! then doing the dishes  and tanning ...it`s gorgeous out!', ' what`s goin on hun?  I`m worried about you', ' Im not bannished... but I am at work till 6', ' Morning! If I get to see it, I`ll let you know. Right now, I`m going to go see Wolverine.', ' red top tabloids, build em up, knock em down', 'tonight in party w/ my girls (minus vita)', '  why not now you made me sad I thought you`d be jumping for joy', ' Simple my', 'The pics I just uploaded are the baby pics of my cats. Missy is now an adult and a pretty little kitty, but Batty is in kitten heaven now', ' I saw the play of it here, it was amazing', 'i am glad to break my twitter virginity with you two.', 'Dinner with the fam... I have missed them', 'Live That`s what I want. More the better. Bound to be a few bad eggs though, but they will soon learn.', 'Hell yeah Kellynn got a Twitter. Finally.', ' I know   It was worth a shot, though!', 'Just opened a facebook account, I`m a little confused I don`t really get it. Twitter seems much better', 'Ship. I`m stuck.', 'DUSTBIN BABY ON AT 11.30 Cannot wait  x', ' Not going to dwell on it. It happened, it`s passed. Just a shame as he was so supportive! Such is life!  x', 'whats the day going on', 'It looks like the office TV DOES get MLB Network', 'Home empty handed.  No comics found today.  I shall now indulge in my cupcakes from Magnolia Bakery.', 'Laying in bed til workkk... Oh the life. Definitely pinched a nerve.', 'today is a busy day. exhausting!', ' I was going to go on Sunday, but now I`ve got too much going on that weekend', ' Sorry to hear ur flight got cancelled  that blows!!!', 'ohh my tooth is hurts ohh  im sad it very hurts', 'Before I get too distracted, I`d like to thank my new followers for taking the trouble to follow me! And to my others: feelin the love', ' u think u have bills Ha!Ii just finished paying mine that`s y I`m broke', ' Not sure it didn`t say it was 2 big. I jst saw the pics of u on ur last bday. You looked so pretty!! I miss you!!', 'sore throat. Planning the TET outing to Marwell though...good times', 'mcfly gig last nightt omg it was amazin didnt sit down through the whole thing  mcfly did you see me and ma best mate we were in tutus', '2 days without sleep and now a migraine. I thought life postR01 was meant to be relaxing', ' There!', '?sucks!?..', ' whens the sway sway winner announced?', ' K will check it out...', ' doing pretty well, up and wide awake', 'i want to wake up early, and get a coffee tomorrow (today) !  it`s going to be a busyy day! but have to keep writing.. booo whoo!', 'I Miss Daddy and Mommy', 'My dog is officially depressed that my brother`s dogs are gone. He doesn`t want to go outside and when we did, he play half-heartedly.', 'I just realized that I can`t forward text msgs with my iPhone.', 'My frist post... Off to find a new car for my parents, exciting!', 'Argh noo! Missed The Killers on Wossy!  That sucks! Missed out on Brandon. Total failure! Anyone know if it`s repeated? Must investigate!', 'seriously bored without anyone to talk to... but not tired enough for sleep', ' I am lost. Please help me find a good home.', 'It`s a Peter & Gordon morning  -> And I, go to pieces and I wanna hide / Go to pieces and I almost die / Ever... ? http://blip.fm/~5yk38', 'Ok so I`ve now got a bit of a bad back after lifting all drum hardware into my car   downer.', ' LMAO... Smh!  that one threw me off.', ' oh nice going!', 'Is getting ready for work... Working all weekend', 'Gonna celebrate Mothers Day with the family but gonna start the partying tonite', ' i agree with you!', ' I only do computers. Am hopeless at everything else', '90 degrees, gross skies, and thunderstorms...perfect match for my mood  lol', '_2nd aww thanks!', ' Sorry RB is on PS3 for me', 'I saw amazing heeels. But they were too big', 'I just stuck my finger down my throat and there are a bunch of bumps on my tongue & throat.', 'dang last url went down  ? http://blip.fm/~7aigm', ' ohoh i missed all ur tweets  im gonna have to stay awake all night to see the announcement now, **** time difference', ' Damnit all. That sucks.  You were one of the ones I thought I`d drag back lol', ' my boss. She`s moving to NYC', 'this is sooo crazy i have fever..', 'is spending her Saturday morning taking notes for a research essay because some stupid **** recalled the book I`m using. Not fair', 'I think i need some new friends', ' Looking forward to your gig in Ireland!!!  See ya there!', \"I' watching a movie name Adimurie\", 'aww  you loooove me', 'is hungry, twitter.  i want food.', 'awesome lucky you', ' yea, i should know.. but tell me EVERYTHING!  ps: send me direct messages telling..   haha', ' haha im jewish, i love that one', 'had a great time out in the beer garden wit the boyos !! I think the sun got to me a bit though, feel a bit ill !!', ' l`m on 3 days too matt. No fun this weekend.', ' u really don`t think so?  maybe ur right....lol. btw what phone u using? think u told me b4...i might have an app for u', ' I feel your pain. Mine is the same way', 'comes home in two days', ' Sadly no. It didn`t come with one...', 'Cant wait to see my boy tomorrow', ' ehhh no. just a check up. I have a dentist app next week though. getting my molar pulled/root canal.', ' aww I miss driving down elmwood', 'Omg Wango Tango was **** AWSOME! I love my baby for taking me', 'Version 2 of our live, interactive Trans-Siberian ticket planner is launched', '_30439 I really wish I could go!', ' yeah real hard, but I know you`ll get by with it... smile', ' I`m 25 in december that`s not good at all next big birthday is 30  after 21 it flys by for sure', '  This has made my night!!  Way too funny!!', 'Woo CAVS.  Happy Mother`s Day!', ' I make that same face when I get home and your mom is watching soaps.', 'I have to go to work now.', ' I can`t believe you went and got boba without me.', '  And to you too, how are you today?', ' Thanks for the warm welcome! We didn`t make plans   because our arrival time was so up in the air.', '19 days and counting', ' sorry  friends - I`m swamped with deadlines right now and we have family visiting to boot! No charades for me.', 'BRAINFREEZE', 'Just discovered a shortcoming of Gravity. When you use Twitpic (integrated) it doesn`t subtract the pic URL from the 140 character limit', 'My sunburn is peeling,', 'perky purple nail polish isn`t as perky when its chipped', 'http://twitpic.com/4sx96 - before they put a CAMERA in the smokers pit.  i can no longer vandalize that door, without being caught.', 'Laying ALONE!! Since Mook`s soo comfy in his f`n play pen. I thought it was ill at first now I don`t have no one to cuddle with...', 'I hate the dentist', ' nothing aimed at you, just joining in...sorry', 'I`m taking a twitter break. Cell is dying', ' qood morninq', 'writing my english original writing storyyyyy. and listening to `a little respect` by erasure  aaaaaah.', 'needs more followers', 'I wish I could get my nails done  stupid job', 'The little wormy from labyrinth sadly passed away today but its ok as hes still around in a happy ghost form aww  http://twitpic.com/67aim', \" the 'no pants' idea could be the new attempt world-wide to attract business back to the airlines.\", ' Have a good one', ' yep infact she is popular, miss india 99, talented film actress .... and lot more', 'Dosen`t Want To Go To Work Tomorrow', 'Daniel has won DSDS. His voice is great.', 'I need blood O negative', 'was hoping to go to Red Lobster this weekend', '_x_ATL u mean jack barakat`s?! wow so have u ever gone to his house? Hehe i mean ur ssoo lucky to have the address!', 'I sure do hope it becomes 4:20 this afternoon ...', ' it means that you are now FAMOUS. Congrats!', 'My phone passed away yesterday.. He jumped off the table  Searching for a new phone...', 'I have such fantastic friends, including several ones met through here! thanks for being in my life - you are such amazing people!', 'tamlyn wishes she was as cool as my sock draw', ' so no rice or crusty bread with the chili .... aawww', '  We are of like minds this evening , my dear!', 'come and save me from my packing please?!', 'Yes, I love tea. If that makes me typically English then so be it', ' a mouth for sure', '_dec0de I finally just have 1 hour of history... at 3.00 pm! but I went to my highschool at 8.00 am to make some homework with a friend', ' pancakes!! with lemon and sugar thanks!', ' Si, no bueno  I guess I just don`t entertain him ', 'I`m so hunrgy right now and these heels kill me I can hardly walk in them', 'both electronic keys stopped working. there is no keyhole! cant get in my car. so much for technology', ' Yay, three followers! Good to know more than one person in this big wide world likes fishies.', \"'my name is Tony!!!!!! ...not hey!!!!' -  poor tony\", 'Goodmorning', 'Took a shift tomorrow.    I don`t really feel like working right now.', ' I love mine, too . happy motherÃ¯Â¿Â½s day to your mom , John Taylor  . much love to you, too .', 'Saw a black snake in the garden.  Went back for a picture and it was gone', 'http://twitpic.com/4wukt - We bought Ludi her own rug. Dogs are the best', 'No waterfront anymore   faccia luna and clarendon will have to do', 'loves her mum very much! Happy Mothers Day to all the wonderful mothers out there', 'Slipped up and caught the flu  feeling like poop!', 'i have an urge to play wow but i have to wait 2 weeks til im at my dads! 5+47DAYS TIL MCFLY, im so excited  (L)', 'Ok ... the passengers ... no one is alive ... they`re all dead ... you just don`t know it til the end ... then you cry ...', 'Discovered  and  are sharing on G reader with me and didn`t even know it. Sigh.... I`m such a G reader newb.', 'is chilled out tonite, so cannot spew venom or write funny. Seems like these are the only 2 styles she has', ' If u do, please pray 4 me.  Lord knows I need it.', 'aaaaaw i want to live in the USA', 'Morning tweeple', ' Hey, I didn`t get any !!!', ' Now you only have 2 hours to sleep...  - Rest if you need it.', '  That makes my day so much better, it`s been a rough one. Did I mention I love the new photo!', 'I don`t want to sit at home on prom night. Someone hang out with me', 'Is heading home from foot surgery and wishing she had a boyfriend to come over and cuddle with', 'concert tonight  chackin out and not coming tomorrow!', ' what happened? I thought you were coming back today....', ' lol dammit  well then next time then', ' lol. just don`t ever forget me', ' Still jealous', 'Me at Forever 21  Ethan couldn`t be there', 'NOW IM SAD BUT IM NOT GIVING IN FIRST..I DIDNT DO NOTHING!!!!    :**-(', 'this week of mine was not easy!  but finally it`s over! (:', '   Wow what a beautiful picture... and by the way....I am straight....just wanted to let you know!!!     Bella', 'In Arch. Drawing. Checking out MVCC`s CAD degree. Looks good to me', \" 'there are people and then there are pencils' some are sharp, some are not and some can be sharpened  my pencil philosophy.....\", 'just about to go home. I`m usually `mr. positive` but this has been one of those daze. well, 15 mins until tomorrow!', ' but you always have lee. Let`s go to Paris', ' you know you want to come keep me company whilst mum`s at her friends for the night  it`s such a nice evening!', 'cooking with my dad  having lots of fun in the kitchen together', 'Bouncing Rush makes me feel nauseous', 'Off to Woolsery this morning to (hopefully) see North Molton U16 clinch the North Devon League title. Lovely day for it', 'playing singstar without my fave duetter', '  you`re missing out, bb! i`m such a cereal nut, i think i like every kind available.', ' That`s just weird... :\\\\  Oh, and what was it you were drawing for me?', 'Just woke up :o mums singing to her new gn`r cd replacement i bought because im a good daughter', 'The birds are out,, oh man... That`s NOT cool && I didn`t sleep yet for the night!!!', '250 miles down, only 1750 to go. Thats ok, u2 on the radio alwas helps.', 'My Street Fighter IV skills are lacking, can`t beat Seth on easy.', ' FIL 461 with cool people like me', 'Good Morning!!! Work and then it`s ESPN`s Sunday night Baseball. hopefully it won`t get rained out', ' i think it`s under a honeymoon by the good life -- either that or it`s under a honey moon by joseph arthur.', 'my son got stung by a bug for the first time  his little finger is slightly swollen.', ' it was hours ago i came in.... and it`s only now i realised when i went to buy something online', ' oh just referring to our lil exchange on LJ with regards to twitter archive postings.', 'Bumping dj opus in the drunk in the car.  lmao. Don`t act like u don`t know.', 'Why kiss the feet of the people who kick you when you can be anything that you want to?  morning everyone! Hope you have the best day ever', 'Here`s a brief preview:   OMG James is creepy in that role! I`m scared of him', 'I`m missing crab legs and attending my going away instead!', 'Hicks are mean!', 'gettn ready to take a trip to Jersey my dad`s not doing so good, he needs a new heart~whoeva see`s this please say a prayer for my dad', 'back soon, need to run to the shops and cut the grass', 'I`m up. I have a plan to transform my bedroom today. Random.', 'Home until tomorrow. Did my running and spinning. Now time for chiropractor, laundry, shopping, and visiting family. Missing nathan', ' thats another sponsor', ' And most of us are going to be stuck in an office, some without windows', ' No it`s not sad. Should make you proud', '   Sorry, we`ll try to keep it down.', 'is home alone.. Doing hw', 'According to , a quarter of families under six live in poverty.', 'the plan to not spend money is not going well', 'uploading all my bamboozle pictures of facebook', ' congratulations ! you guys finish a month early than we do. booo', ' actually, I wish I was back in Tahoe.  I miss it there.']\n"
          ]
        }
      ]
    },
    {
      "cell_type": "code",
      "source": [
        "train_texts, test_texts, train_labels, test_labels = train_test_split(texts, labels, test_size=0.2, random_state=42)"
      ],
      "metadata": {
        "id": "s7sRNqsDVXka"
      },
      "execution_count": null,
      "outputs": []
    },
    {
      "cell_type": "code",
      "source": [
        "# Building a vocabulary list\n",
        "def build_vocab(texts):\n",
        "    vocab = Counter()\n",
        "    for text in texts:\n",
        "        vocab.update(text.split())\n",
        "    return vocab\n",
        "\n",
        "vocab = build_vocab(train_texts)\n",
        "vocab_size = len(vocab) + 1\n",
        "word_to_idx = {word: idx + 1 for idx, word in enumerate(vocab)}"
      ],
      "metadata": {
        "id": "kegKF7kiVXiD"
      },
      "execution_count": null,
      "outputs": []
    },
    {
      "cell_type": "code",
      "source": [
        "# Text coding\n",
        "def encode_texts(texts, word_to_idx, max_len):\n",
        "    encoded_texts = []\n",
        "    for text in texts:\n",
        "        tokens = text.split()\n",
        "        encoded = [word_to_idx.get(word, 0) for word in tokens]\n",
        "        if len(encoded) < max_len:\n",
        "            encoded += [0] * (max_len - len(encoded))\n",
        "        else:\n",
        "            encoded = encoded[:max_len]\n",
        "        encoded_texts.append(encoded)\n",
        "    return np.array(encoded_texts)"
      ],
      "metadata": {
        "id": "RRrQFSVzVXfy"
      },
      "execution_count": null,
      "outputs": []
    },
    {
      "cell_type": "code",
      "source": [
        "max_len = 128  # Maximum Text Length\n",
        "train_texts_encoded = encode_texts(train_texts, word_to_idx, max_len)\n",
        "test_texts_encoded = encode_texts(test_texts, word_to_idx, max_len)"
      ],
      "metadata": {
        "id": "pavGYxyrVXdk"
      },
      "execution_count": null,
      "outputs": []
    },
    {
      "cell_type": "code",
      "source": [
        "# Custom dataset\n",
        "class TextDataset(Dataset):\n",
        "    def __init__(self, texts, labels):\n",
        "        self.texts = texts\n",
        "        self.labels = labels\n",
        "\n",
        "    def __len__(self):\n",
        "        return len(self.texts)\n",
        "\n",
        "    def __getitem__(self, idx):\n",
        "        return torch.tensor(self.texts[idx], dtype=torch.long), torch.tensor(self.labels[idx], dtype=torch.long)\n",
        "\n",
        "train_dataset = TextDataset(train_texts_encoded, train_labels)\n",
        "test_dataset = TextDataset(test_texts_encoded, test_labels)"
      ],
      "metadata": {
        "id": "qRirF37KVXbT"
      },
      "execution_count": null,
      "outputs": []
    },
    {
      "cell_type": "code",
      "source": [
        "# Data Loader\n",
        "batch_size = 32\n",
        "train_loader = DataLoader(train_dataset, batch_size=batch_size, shuffle=True)\n",
        "test_loader = DataLoader(test_dataset, batch_size=batch_size, shuffle=False)"
      ],
      "metadata": {
        "id": "LQJChyp-VXZA"
      },
      "execution_count": null,
      "outputs": []
    },
    {
      "cell_type": "code",
      "source": [
        "# Define LSTM model\n",
        "class LSTMModel(nn.Module):\n",
        "    def __init__(self, vocab_size, embedding_dim, hidden_dim, output_dim, n_layers, bidirectional, dropout):\n",
        "        super(LSTMModel, self).__init__()\n",
        "        self.embedding = nn.Embedding(vocab_size, embedding_dim, padding_idx=0)\n",
        "        self.lstm = nn.LSTM(embedding_dim, hidden_dim, n_layers, bidirectional=bidirectional, dropout=dropout, batch_first=True)\n",
        "        self.fc = nn.Linear(hidden_dim * 2 if bidirectional else hidden_dim, output_dim)\n",
        "        self.dropout = nn.Dropout(dropout)\n",
        "\n",
        "    def forward(self, text):\n",
        "        embedded = self.dropout(self.embedding(text))  # [batch_size, seq_len, embedding_dim]\n",
        "        output, (hidden, cell) = self.lstm(embedded)  # output: [batch_size, seq_len, hidden_dim * 2]\n",
        "        if self.lstm.bidirectional:\n",
        "            hidden = self.dropout(torch.cat((hidden[-2, :, :], hidden[-1, :, :]), dim=1))\n",
        "        else:\n",
        "            hidden = self.dropout(hidden[-1, :, :])\n",
        "        return self.fc(hidden)\n",
        "\n",
        "# Set model parameter\n",
        "vocab_size = len(word_to_idx) + 1\n",
        "embedding_dim = 100\n",
        "hidden_dim = 128\n",
        "output_dim = 3\n",
        "n_layers = 2\n",
        "bidirectional = True\n",
        "dropout = 0.5\n",
        "\n",
        "model = LSTMModel(vocab_size, embedding_dim, hidden_dim, output_dim, n_layers, bidirectional, dropout)\n",
        "\n",
        "# Set device\n",
        "device = torch.device('cuda' if torch.cuda.is_available() else 'cpu')\n",
        "model = model.to(device)\n",
        "\n",
        "# Define loss function and optimizer\n",
        "class_counts = np.bincount(train_labels)  # Calculate the sample size for each category\n",
        "\n",
        "class_weights = 1.0 / class_counts  # Calculate category weight\n",
        "\n",
        "class_weights = torch.tensor(class_weights, dtype=torch.float).to(device)\n",
        "criterion = nn.CrossEntropyLoss(weight=class_weights)\n",
        "optimizer = optim.Adam(model.parameters(), lr=1e-3, weight_decay=1e-5)\n",
        "scheduler = ReduceLROnPlateau(optimizer, mode='max', factor=0.1, patience=2, verbose=True)  # Learning rate scheduler"
      ],
      "metadata": {
        "id": "R4H9tN9eVXWm",
        "colab": {
          "base_uri": "https://localhost:8080/"
        },
        "outputId": "2178bf9e-d6d4-4982-d836-65a421706bfb"
      },
      "execution_count": null,
      "outputs": [
        {
          "output_type": "stream",
          "name": "stderr",
          "text": [
            "/usr/local/lib/python3.11/dist-packages/torch/optim/lr_scheduler.py:62: UserWarning: The verbose parameter is deprecated. Please use get_last_lr() to access the learning rate.\n",
            "  warnings.warn(\n"
          ]
        }
      ]
    },
    {
      "cell_type": "code",
      "source": [
        "# Early Stop Method\n",
        "class EarlyStopping:\n",
        "    def __init__(self, patience=5, verbose=True):\n",
        "        self.patience = patience\n",
        "        self.verbose = verbose\n",
        "        self.counter = 0\n",
        "        self.best_score = None\n",
        "        self.early_stop = False\n",
        "\n",
        "    def __call__(self, val_acc, model):\n",
        "        if self.best_score is None:\n",
        "            self.best_score = val_acc\n",
        "        elif val_acc < self.best_score:\n",
        "            self.counter += 1\n",
        "            if self.verbose:\n",
        "                print(f'EarlyStopping counter: {self.counter} out of {self.patience}')\n",
        "            if self.counter >= self.patience:\n",
        "                self.early_stop = True\n",
        "        else:\n",
        "            self.best_score = val_acc\n",
        "            self.counter = 0\n",
        "\n",
        "early_stopping = EarlyStopping(patience=5, verbose=True)"
      ],
      "metadata": {
        "id": "FYq4EtcJXz5x"
      },
      "execution_count": null,
      "outputs": []
    },
    {
      "cell_type": "code",
      "source": [
        "# Training function\n",
        "def train_model(model, optimizer, criterion, scheduler, early_stopping, num_epochs):\n",
        "    train_losses = []\n",
        "    test_losses = []\n",
        "    train_accuracies = []\n",
        "    test_accuracies = []\n",
        "\n",
        "    for epoch in range(num_epochs):\n",
        "        model.train()\n",
        "        train_loss = 0\n",
        "        correct = 0\n",
        "        total = 0\n",
        "\n",
        "        for texts, labels in train_loader:\n",
        "            texts, labels = texts.to(device), labels.to(device)\n",
        "            optimizer.zero_grad()\n",
        "            outputs = model(texts)\n",
        "            loss = criterion(outputs, labels)\n",
        "            loss.backward()\n",
        "            optimizer.step()\n",
        "\n",
        "            train_loss += loss.item()\n",
        "            _, predicted = torch.max(outputs, 1)\n",
        "            total += labels.size(0)\n",
        "            correct += (predicted == labels).sum().item()\n",
        "\n",
        "        train_loss /= len(train_loader)\n",
        "        train_acc = correct / total\n",
        "        train_losses.append(train_loss)\n",
        "        train_accuracies.append(train_acc)\n",
        "\n",
        "        # Test set evaluation\n",
        "        model.eval()\n",
        "        test_loss = 0\n",
        "        correct = 0\n",
        "        total = 0\n",
        "\n",
        "        with torch.no_grad():\n",
        "            for texts, labels in test_loader:\n",
        "                texts, labels = texts.to(device), labels.to(device)\n",
        "                outputs = model(texts)\n",
        "                loss = criterion(outputs, labels)\n",
        "                test_loss += loss.item()\n",
        "                _, predicted = torch.max(outputs, 1)\n",
        "                total += labels.size(0)\n",
        "                correct += (predicted == labels).sum().item()\n",
        "\n",
        "        test_loss /= len(test_loader)\n",
        "        test_acc = correct / total\n",
        "        test_losses.append(test_loss)\n",
        "        test_accuracies.append(test_acc)\n",
        "\n",
        "        print(f'Epoch [{epoch+1}/{num_epochs}], '\n",
        "              f'Train Loss: {train_loss:.4f}, Train Acc: {train_acc:.4f}, '\n",
        "              f'Test Loss: {test_loss:.4f}, Test Acc: {test_acc:.4f}')\n",
        "\n",
        "       # Learning rate scheduling\n",
        "        scheduler.step(test_acc)\n",
        "\n",
        "        # Application Early Stop Method\n",
        "        early_stopping(test_acc, model)\n",
        "        if early_stopping.early_stop:\n",
        "            print(\"Early stopping triggered\")\n",
        "            break\n",
        "\n",
        "    return train_losses, test_losses, train_accuracies, test_accuracies"
      ],
      "metadata": {
        "id": "XgdoMToSVXUb"
      },
      "execution_count": null,
      "outputs": []
    },
    {
      "cell_type": "code",
      "source": [
        "num_epochs = 40\n",
        "train_losses, test_losses, train_accuracies, test_accuracies = train_model(model, optimizer, criterion, scheduler, early_stopping, num_epochs)"
      ],
      "metadata": {
        "colab": {
          "base_uri": "https://localhost:8080/"
        },
        "id": "rt0_e2GbVXSa",
        "outputId": "7b05608a-6f05-45d4-9cc2-42135346a6d9"
      },
      "execution_count": null,
      "outputs": [
        {
          "output_type": "stream",
          "name": "stdout",
          "text": [
            "Epoch [1/40], Train Loss: 1.0992, Train Acc: 0.2932, Test Loss: 1.0991, Test Acc: 0.3200\n",
            "Epoch [2/40], Train Loss: 1.0908, Train Acc: 0.4135, Test Loss: 1.0964, Test Acc: 0.3900\n",
            "Epoch [3/40], Train Loss: 1.0810, Train Acc: 0.4486, Test Loss: 1.0875, Test Acc: 0.3900\n",
            "Epoch [4/40], Train Loss: 1.0566, Train Acc: 0.5088, Test Loss: 1.0934, Test Acc: 0.4100\n",
            "Epoch [5/40], Train Loss: 0.9956, Train Acc: 0.5263, Test Loss: 1.1257, Test Acc: 0.4000\n",
            "EarlyStopping counter: 1 out of 5\n",
            "Epoch [6/40], Train Loss: 0.8835, Train Acc: 0.5815, Test Loss: 1.0558, Test Acc: 0.4200\n",
            "Epoch [7/40], Train Loss: 0.8069, Train Acc: 0.6366, Test Loss: 1.1400, Test Acc: 0.4200\n",
            "Epoch [8/40], Train Loss: 0.7053, Train Acc: 0.7043, Test Loss: 1.0281, Test Acc: 0.5000\n",
            "Epoch [9/40], Train Loss: 0.6368, Train Acc: 0.7193, Test Loss: 1.0209, Test Acc: 0.5500\n",
            "Epoch [10/40], Train Loss: 0.5509, Train Acc: 0.7519, Test Loss: 1.0484, Test Acc: 0.5400\n",
            "EarlyStopping counter: 1 out of 5\n",
            "Epoch [11/40], Train Loss: 0.5270, Train Acc: 0.8020, Test Loss: 0.9764, Test Acc: 0.5800\n",
            "Epoch [12/40], Train Loss: 0.4733, Train Acc: 0.7845, Test Loss: 1.0093, Test Acc: 0.6100\n",
            "Epoch [13/40], Train Loss: 0.3951, Train Acc: 0.8571, Test Loss: 1.2609, Test Acc: 0.5600\n",
            "EarlyStopping counter: 1 out of 5\n",
            "Epoch [14/40], Train Loss: 0.3428, Train Acc: 0.8647, Test Loss: 0.9993, Test Acc: 0.6000\n",
            "EarlyStopping counter: 2 out of 5\n",
            "Epoch [15/40], Train Loss: 0.2892, Train Acc: 0.8947, Test Loss: 0.9956, Test Acc: 0.5900\n",
            "EarlyStopping counter: 3 out of 5\n",
            "Epoch [16/40], Train Loss: 0.3339, Train Acc: 0.8872, Test Loss: 0.9800, Test Acc: 0.5700\n",
            "EarlyStopping counter: 4 out of 5\n",
            "Epoch [17/40], Train Loss: 0.3088, Train Acc: 0.8822, Test Loss: 0.9691, Test Acc: 0.5600\n",
            "EarlyStopping counter: 5 out of 5\n",
            "Early stopping triggered\n"
          ]
        }
      ]
    },
    {
      "cell_type": "code",
      "source": [
        "# Draw loss and accuracy curves\n",
        "plt.figure(figsize=(12, 5))\n",
        "plt.subplot(1, 2, 1)\n",
        "plt.plot(train_losses, label='Train Loss')\n",
        "plt.plot(test_losses, label='Test Loss')\n",
        "plt.xlabel('Epoch')\n",
        "plt.ylabel('Loss')\n",
        "plt.legend()"
      ],
      "metadata": {
        "colab": {
          "base_uri": "https://localhost:8080/",
          "height": 483
        },
        "id": "nesceEpEVXQQ",
        "outputId": "ec153fb6-0387-4f77-c3e9-ccf462d3bbf8"
      },
      "execution_count": null,
      "outputs": [
        {
          "output_type": "execute_result",
          "data": {
            "text/plain": [
              "<matplotlib.legend.Legend at 0x7bdc88ba3a10>"
            ]
          },
          "metadata": {},
          "execution_count": 14
        },
        {
          "output_type": "display_data",
          "data": {
            "text/plain": [
              "<Figure size 1200x500 with 1 Axes>"
            ],
            "image/png": "[encoded data removed]"
          },
          "metadata": {}
        }
      ]
    },
    {
      "cell_type": "code",
      "source": [
        "plt.subplot(1, 2, 2)\n",
        "plt.plot(train_accuracies, label='Train Accuracy')\n",
        "plt.plot(test_accuracies, label='Test Accuracy')\n",
        "plt.xlabel('Epoch')\n",
        "plt.ylabel('Accuracy')\n",
        "plt.legend()\n",
        "plt.show()"
      ],
      "metadata": {
        "colab": {
          "base_uri": "https://localhost:8080/",
          "height": 449
        },
        "id": "jzJzXf6SVXOV",
        "outputId": "47b2631e-6c2f-4cf9-d76c-25d64749abb1"
      },
      "execution_count": null,
      "outputs": [
        {
          "output_type": "display_data",
          "data": {
            "text/plain": [
              "<Figure size 640x480 with 1 Axes>"
            ],
            "image/png": "[encoded data removed]"
          },
          "metadata": {}
        }
      ]
    },
    {
      "cell_type": "code",
      "source": [
        "# Evaluation model\n",
        "def evaluate_model(model, dataloader):\n",
        "    model.eval()\n",
        "    true_labels = []\n",
        "    pred_labels = []\n",
        "\n",
        "    with torch.no_grad():\n",
        "        for texts, labels in dataloader:\n",
        "            texts, labels = texts.to(device), labels.to(device)\n",
        "            outputs = model(texts)\n",
        "            _, predicted = torch.max(outputs, 1)\n",
        "            true_labels.extend(labels.cpu().numpy())\n",
        "            pred_labels.extend(predicted.cpu().numpy())\n",
        "\n",
        "    accuracy = accuracy_score(true_labels, pred_labels)\n",
        "    precision = precision_score(true_labels, pred_labels, average='macro')\n",
        "    recall = recall_score(true_labels, pred_labels, average='macro')\n",
        "    f1 = f1_score(true_labels, pred_labels, average='macro')\n",
        "\n",
        "    print(f'Test Accuracy: {accuracy:.4f}')\n",
        "    print(f'Test Precision: {precision:.4f}')\n",
        "    print(f'Test Recall: {recall:.4f}')\n",
        "    print(f'Test F1 Score: {f1:.4f}')\n",
        "\n",
        "evaluate_model(model, test_loader)"
      ],
      "metadata": {
        "colab": {
          "base_uri": "https://localhost:8080/"
        },
        "id": "v04AZagRVXML",
        "outputId": "4d3d18ac-6297-4667-bef1-ed55650e4238"
      },
      "execution_count": null,
      "outputs": [
        {
          "output_type": "stream",
          "name": "stdout",
          "text": [
            "Test Accuracy: 0.5600\n",
            "Test Precision: 0.5917\n",
            "Test Recall: 0.5654\n",
            "Test F1 Score: 0.5638\n"
          ]
        }
      ]
    },
    {
      "cell_type": "code",
      "source": [],
      "metadata": {
        "id": "a6wXVD1JWWx2"
      },
      "execution_count": null,
      "outputs": []
    },
    {
      "cell_type": "code",
      "source": [],
      "metadata": {
        "id": "DnnInSzvWWv5"
      },
      "execution_count": null,
      "outputs": []
    },
    {
      "cell_type": "code",
      "source": [],
      "metadata": {
        "id": "4gsbmeDwWWth"
      },
      "execution_count": null,
      "outputs": []
    },
    {
      "cell_type": "code",
      "source": [],
      "metadata": {
        "id": "wKa75uSZWWrJ"
      },
      "execution_count": null,
      "outputs": []
    }
  ]
}